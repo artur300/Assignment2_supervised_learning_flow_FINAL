{
 "cells": [
  {
   "cell_type": "markdown",
   "metadata": {},
   "source": [
    "\n",
    "<span style=\"font-weight: bold;font-size: 30px; color: black;\"> Machine Learning - Assignment 2 - Implementing a Supervised Learning Flow-TITANIC</span>"
   ]
  },
  {
   "cell_type": "markdown",
   "metadata": {},
   "source": [
    "<div style=\"background-color: none; font-size: 18px; color: black; padding: 0; margin: 0; text-align: left;\">\n",
    "    <p>Names of the students:</p>\n",
    "</div>\n",
    "\n",
    "<div style=\"background-color: none; font-size: 12px; color: black; padding: 0; margin: 0; text-align: left;\">\n",
    "    <p>Name: Arthur Anikin Last_4_ID_Digits:1416</p>\n",
    "    <p>Name: Yana Sladkov Last_4_ID_Digits:0012</p>\n",
    "    <p>Name: John Asoor Last_4_ID_Digits:4176</p>\n",
    "</div>"
   ]
  },
  {
   "cell_type": "code",
   "execution_count": 1,
   "metadata": {},
   "outputs": [],
   "source": [
    "# ייבוא הספריות הדרושות\n",
    "import pandas as pd  # לטיפול בניתוח ועיבוד נתונים\n",
    "import matplotlib.pyplot as plt  # להדמיה של נתונים (גרפים)\n",
    "import seaborn as sns  # להדמיות מתקדמות (גרפים מורכבים יותר)\n",
    "from IPython.display import display#משמשת להצגת אובייקטים בצורה אינטראקטיבית וברורה\n",
    "from sklearn.model_selection import GridSearchCV  # לבחירת המודל הטוב ביותר והפרמטרים\n",
    "from sklearn.metrics import classification_report, make_scorer, f1_score  #F1 להערכת המודל עם מדד\n",
    "from sklearn.tree import DecisionTreeClassifier # Decision Tree ייבוא המודל לסיווג נתונים\n",
    "from sklearn.neighbors import KNeighborsClassifier # KNN ייבוא המודל לסיווג נתונים \n",
    "from sklearn.feature_selection import SelectKBest, f_classif # SelectKBest ו- f_classif ייבוא כלים לבחירת התכונות הכי רלוונטיות \n",
    "from sklearn.preprocessing import StandardScaler # StandardScaler ייבוא הכלי לנרמול הנתונים \n",
    "from sklearn.decomposition import PCA # PCA ייבוא הכלי להפחתת ממדים \n",
    "\n"
   ]
  },
  {
   "cell_type": "markdown",
   "metadata": {},
   "source": [
    "<div style=\"background-color: none; font-size: 18px; color: black; padding: 0; margin: 0; text-align: left;\">\n",
    "    <p>Step 1: Loading the TrainSet and TestSet and Displaying the First 5 Rows:</p>\n",
    "</div>\n",
    "\n",
    "<div style=\"background-color: none; font-size: 12px; color: black; padding: 0; margin: 0; text-align: left;\">\n",
    "    <p>Here we load both datasets and display the first 5 rows from each:</p>\n",
    "</div>\n"
   ]
  },
  {
   "cell_type": "code",
   "execution_count": 2,
   "metadata": {},
   "outputs": [
    {
     "name": "stdout",
     "output_type": "stream",
     "text": [
      "Train Dataset - First 5 Rows:\n"
     ]
    },
    {
     "data": {
      "text/html": [
       "<div>\n",
       "<style scoped>\n",
       "    .dataframe tbody tr th:only-of-type {\n",
       "        vertical-align: middle;\n",
       "    }\n",
       "\n",
       "    .dataframe tbody tr th {\n",
       "        vertical-align: top;\n",
       "    }\n",
       "\n",
       "    .dataframe thead th {\n",
       "        text-align: right;\n",
       "    }\n",
       "</style>\n",
       "<table border=\"1\" class=\"dataframe\">\n",
       "  <thead>\n",
       "    <tr style=\"text-align: right;\">\n",
       "      <th></th>\n",
       "      <th>Pclass</th>\n",
       "      <th>Sex</th>\n",
       "      <th>Age</th>\n",
       "      <th>SibSp</th>\n",
       "      <th>Parch</th>\n",
       "      <th>Fare</th>\n",
       "      <th>Embarked</th>\n",
       "      <th>Survived</th>\n",
       "    </tr>\n",
       "  </thead>\n",
       "  <tbody>\n",
       "    <tr>\n",
       "      <th>0</th>\n",
       "      <td>1</td>\n",
       "      <td>0</td>\n",
       "      <td>54.0</td>\n",
       "      <td>1</td>\n",
       "      <td>0</td>\n",
       "      <td>78.2667</td>\n",
       "      <td>1</td>\n",
       "      <td>1</td>\n",
       "    </tr>\n",
       "    <tr>\n",
       "      <th>1</th>\n",
       "      <td>2</td>\n",
       "      <td>0</td>\n",
       "      <td>45.0</td>\n",
       "      <td>0</td>\n",
       "      <td>0</td>\n",
       "      <td>13.5000</td>\n",
       "      <td>0</td>\n",
       "      <td>1</td>\n",
       "    </tr>\n",
       "    <tr>\n",
       "      <th>2</th>\n",
       "      <td>3</td>\n",
       "      <td>1</td>\n",
       "      <td>20.0</td>\n",
       "      <td>0</td>\n",
       "      <td>0</td>\n",
       "      <td>9.5000</td>\n",
       "      <td>0</td>\n",
       "      <td>0</td>\n",
       "    </tr>\n",
       "    <tr>\n",
       "      <th>3</th>\n",
       "      <td>3</td>\n",
       "      <td>1</td>\n",
       "      <td>36.0</td>\n",
       "      <td>0</td>\n",
       "      <td>0</td>\n",
       "      <td>7.8958</td>\n",
       "      <td>0</td>\n",
       "      <td>0</td>\n",
       "    </tr>\n",
       "    <tr>\n",
       "      <th>4</th>\n",
       "      <td>3</td>\n",
       "      <td>1</td>\n",
       "      <td>22.0</td>\n",
       "      <td>0</td>\n",
       "      <td>0</td>\n",
       "      <td>8.0500</td>\n",
       "      <td>0</td>\n",
       "      <td>0</td>\n",
       "    </tr>\n",
       "  </tbody>\n",
       "</table>\n",
       "</div>"
      ],
      "text/plain": [
       "   Pclass  Sex   Age  SibSp  Parch     Fare  Embarked  Survived\n",
       "0       1    0  54.0      1      0  78.2667         1         1\n",
       "1       2    0  45.0      0      0  13.5000         0         1\n",
       "2       3    1  20.0      0      0   9.5000         0         0\n",
       "3       3    1  36.0      0      0   7.8958         0         0\n",
       "4       3    1  22.0      0      0   8.0500         0         0"
      ]
     },
     "metadata": {},
     "output_type": "display_data"
    },
    {
     "name": "stdout",
     "output_type": "stream",
     "text": [
      "\n",
      "Test Dataset - First 5 Rows:\n"
     ]
    },
    {
     "data": {
      "text/html": [
       "<div>\n",
       "<style scoped>\n",
       "    .dataframe tbody tr th:only-of-type {\n",
       "        vertical-align: middle;\n",
       "    }\n",
       "\n",
       "    .dataframe tbody tr th {\n",
       "        vertical-align: top;\n",
       "    }\n",
       "\n",
       "    .dataframe thead th {\n",
       "        text-align: right;\n",
       "    }\n",
       "</style>\n",
       "<table border=\"1\" class=\"dataframe\">\n",
       "  <thead>\n",
       "    <tr style=\"text-align: right;\">\n",
       "      <th></th>\n",
       "      <th>Pclass</th>\n",
       "      <th>Sex</th>\n",
       "      <th>Age</th>\n",
       "      <th>SibSp</th>\n",
       "      <th>Parch</th>\n",
       "      <th>Fare</th>\n",
       "      <th>Embarked</th>\n",
       "      <th>Survived</th>\n",
       "    </tr>\n",
       "  </thead>\n",
       "  <tbody>\n",
       "    <tr>\n",
       "      <th>0</th>\n",
       "      <td>3</td>\n",
       "      <td>1</td>\n",
       "      <td>35.000000</td>\n",
       "      <td>0</td>\n",
       "      <td>0</td>\n",
       "      <td>7.0500</td>\n",
       "      <td>0</td>\n",
       "      <td>0</td>\n",
       "    </tr>\n",
       "    <tr>\n",
       "      <th>1</th>\n",
       "      <td>3</td>\n",
       "      <td>1</td>\n",
       "      <td>30.000000</td>\n",
       "      <td>0</td>\n",
       "      <td>0</td>\n",
       "      <td>7.2500</td>\n",
       "      <td>0</td>\n",
       "      <td>0</td>\n",
       "    </tr>\n",
       "    <tr>\n",
       "      <th>2</th>\n",
       "      <td>3</td>\n",
       "      <td>1</td>\n",
       "      <td>29.699118</td>\n",
       "      <td>0</td>\n",
       "      <td>0</td>\n",
       "      <td>14.5000</td>\n",
       "      <td>0</td>\n",
       "      <td>0</td>\n",
       "    </tr>\n",
       "    <tr>\n",
       "      <th>3</th>\n",
       "      <td>3</td>\n",
       "      <td>0</td>\n",
       "      <td>21.000000</td>\n",
       "      <td>0</td>\n",
       "      <td>0</td>\n",
       "      <td>7.7500</td>\n",
       "      <td>2</td>\n",
       "      <td>0</td>\n",
       "    </tr>\n",
       "    <tr>\n",
       "      <th>4</th>\n",
       "      <td>3</td>\n",
       "      <td>1</td>\n",
       "      <td>32.000000</td>\n",
       "      <td>0</td>\n",
       "      <td>0</td>\n",
       "      <td>56.4958</td>\n",
       "      <td>0</td>\n",
       "      <td>1</td>\n",
       "    </tr>\n",
       "  </tbody>\n",
       "</table>\n",
       "</div>"
      ],
      "text/plain": [
       "   Pclass  Sex        Age  SibSp  Parch     Fare  Embarked  Survived\n",
       "0       3    1  35.000000      0      0   7.0500         0         0\n",
       "1       3    1  30.000000      0      0   7.2500         0         0\n",
       "2       3    1  29.699118      0      0  14.5000         0         0\n",
       "3       3    0  21.000000      0      0   7.7500         2         0\n",
       "4       3    1  32.000000      0      0  56.4958         0         1"
      ]
     },
     "metadata": {},
     "output_type": "display_data"
    }
   ],
   "source": [
    "\n",
    "\n",
    "# טען את מערכי הנתונים לאימון ולבדיקה באמצעות נתיבים יחסיים\n",
    "train_df = pd.read_csv('titanic_train.csv')\n",
    "test_df = pd.read_csv('titanic_test.csv')\n",
    "\n",
    "print(\"Train Dataset - First 5 Rows:\")\n",
    "display(train_df.head())  # הצגה של קובץ האימון בצורה של טבלה\n",
    "\n",
    "print(\"\\nTest Dataset - First 5 Rows:\")\n",
    "display(test_df.head())  # הצגה של קובץ הבדיקה בצורה של טבלה\n"
   ]
  },
  {
   "cell_type": "markdown",
   "metadata": {},
   "source": [
    "<div style=\"background-color: none; font-size: 18px; color: black; padding: 0; margin: 0; text-align: left;\">\n",
    "    <p>Step 1: EDA Visualizations and Outputs</p>\n",
    "</div>\n",
    "\n",
    "<div style=\"background-color: none; font-size: 12px; color: black; padding: 0; margin: 0; text-align: left;\">\n",
    "    <p><span style=\"font-weight: bold;\">1. First Output:</span> Basic Statistics of the Dataset</p>\n",
    "</div>\n"
   ]
  },
  {
   "cell_type": "code",
   "execution_count": 3,
   "metadata": {},
   "outputs": [
    {
     "name": "stdout",
     "output_type": "stream",
     "text": [
      "Train Dataset Statistics:\n"
     ]
    },
    {
     "data": {
      "text/html": [
       "<div>\n",
       "<style scoped>\n",
       "    .dataframe tbody tr th:only-of-type {\n",
       "        vertical-align: middle;\n",
       "    }\n",
       "\n",
       "    .dataframe tbody tr th {\n",
       "        vertical-align: top;\n",
       "    }\n",
       "\n",
       "    .dataframe thead th {\n",
       "        text-align: right;\n",
       "    }\n",
       "</style>\n",
       "<table border=\"1\" class=\"dataframe\">\n",
       "  <thead>\n",
       "    <tr style=\"text-align: right;\">\n",
       "      <th></th>\n",
       "      <th>Pclass</th>\n",
       "      <th>Sex</th>\n",
       "      <th>Age</th>\n",
       "      <th>SibSp</th>\n",
       "      <th>Parch</th>\n",
       "      <th>Fare</th>\n",
       "      <th>Embarked</th>\n",
       "      <th>Survived</th>\n",
       "    </tr>\n",
       "  </thead>\n",
       "  <tbody>\n",
       "    <tr>\n",
       "      <th>count</th>\n",
       "      <td>712.000000</td>\n",
       "      <td>712.000000</td>\n",
       "      <td>712.000000</td>\n",
       "      <td>712.000000</td>\n",
       "      <td>712.000000</td>\n",
       "      <td>712.000000</td>\n",
       "      <td>712.000000</td>\n",
       "      <td>712.000000</td>\n",
       "    </tr>\n",
       "    <tr>\n",
       "      <th>mean</th>\n",
       "      <td>2.294944</td>\n",
       "      <td>0.640449</td>\n",
       "      <td>29.531213</td>\n",
       "      <td>0.528090</td>\n",
       "      <td>0.384831</td>\n",
       "      <td>32.379429</td>\n",
       "      <td>0.372191</td>\n",
       "      <td>0.394663</td>\n",
       "    </tr>\n",
       "    <tr>\n",
       "      <th>std</th>\n",
       "      <td>0.841990</td>\n",
       "      <td>0.480206</td>\n",
       "      <td>13.188028</td>\n",
       "      <td>1.055052</td>\n",
       "      <td>0.803085</td>\n",
       "      <td>49.836074</td>\n",
       "      <td>0.649970</td>\n",
       "      <td>0.489122</td>\n",
       "    </tr>\n",
       "    <tr>\n",
       "      <th>min</th>\n",
       "      <td>1.000000</td>\n",
       "      <td>0.000000</td>\n",
       "      <td>0.670000</td>\n",
       "      <td>0.000000</td>\n",
       "      <td>0.000000</td>\n",
       "      <td>0.000000</td>\n",
       "      <td>0.000000</td>\n",
       "      <td>0.000000</td>\n",
       "    </tr>\n",
       "    <tr>\n",
       "      <th>25%</th>\n",
       "      <td>1.750000</td>\n",
       "      <td>0.000000</td>\n",
       "      <td>22.000000</td>\n",
       "      <td>0.000000</td>\n",
       "      <td>0.000000</td>\n",
       "      <td>7.925000</td>\n",
       "      <td>0.000000</td>\n",
       "      <td>0.000000</td>\n",
       "    </tr>\n",
       "    <tr>\n",
       "      <th>50%</th>\n",
       "      <td>3.000000</td>\n",
       "      <td>1.000000</td>\n",
       "      <td>29.699118</td>\n",
       "      <td>0.000000</td>\n",
       "      <td>0.000000</td>\n",
       "      <td>14.500000</td>\n",
       "      <td>0.000000</td>\n",
       "      <td>0.000000</td>\n",
       "    </tr>\n",
       "    <tr>\n",
       "      <th>75%</th>\n",
       "      <td>3.000000</td>\n",
       "      <td>1.000000</td>\n",
       "      <td>35.000000</td>\n",
       "      <td>1.000000</td>\n",
       "      <td>0.000000</td>\n",
       "      <td>31.275000</td>\n",
       "      <td>1.000000</td>\n",
       "      <td>1.000000</td>\n",
       "    </tr>\n",
       "    <tr>\n",
       "      <th>max</th>\n",
       "      <td>3.000000</td>\n",
       "      <td>1.000000</td>\n",
       "      <td>80.000000</td>\n",
       "      <td>8.000000</td>\n",
       "      <td>6.000000</td>\n",
       "      <td>512.329200</td>\n",
       "      <td>3.000000</td>\n",
       "      <td>1.000000</td>\n",
       "    </tr>\n",
       "  </tbody>\n",
       "</table>\n",
       "</div>"
      ],
      "text/plain": [
       "           Pclass         Sex         Age       SibSp       Parch        Fare  \\\n",
       "count  712.000000  712.000000  712.000000  712.000000  712.000000  712.000000   \n",
       "mean     2.294944    0.640449   29.531213    0.528090    0.384831   32.379429   \n",
       "std      0.841990    0.480206   13.188028    1.055052    0.803085   49.836074   \n",
       "min      1.000000    0.000000    0.670000    0.000000    0.000000    0.000000   \n",
       "25%      1.750000    0.000000   22.000000    0.000000    0.000000    7.925000   \n",
       "50%      3.000000    1.000000   29.699118    0.000000    0.000000   14.500000   \n",
       "75%      3.000000    1.000000   35.000000    1.000000    0.000000   31.275000   \n",
       "max      3.000000    1.000000   80.000000    8.000000    6.000000  512.329200   \n",
       "\n",
       "         Embarked    Survived  \n",
       "count  712.000000  712.000000  \n",
       "mean     0.372191    0.394663  \n",
       "std      0.649970    0.489122  \n",
       "min      0.000000    0.000000  \n",
       "25%      0.000000    0.000000  \n",
       "50%      0.000000    0.000000  \n",
       "75%      1.000000    1.000000  \n",
       "max      3.000000    1.000000  "
      ]
     },
     "metadata": {},
     "output_type": "display_data"
    }
   ],
   "source": [
    "\n",
    "# טען את קובץ האימון\n",
    "train_df = pd.read_csv('titanic_train.csv')\n",
    "# מציג את הסטטיסטיקות של הנתונים בקובץ האימון\n",
    "print(\"Train Dataset Statistics:\")  # הודעה שמציגה את כותרת הסטטיסטיקות\n",
    "display(train_df.describe())  # מציג סטטיסטיקות עבור כל העמודות המספריות בצורה של טבלה יפה\n"
   ]
  },
  {
   "cell_type": "markdown",
   "metadata": {},
   "source": [
    "<div style=\"background-color: none; font-size: 12px; color: black; padding: 0; margin: 0; text-align: left;\">\n",
    "    <p><span style=\"font-weight: bold;\">2. Second Output:</span> Checking for Missing Values</p>\n",
    "</div>"
   ]
  },
  {
   "cell_type": "code",
   "execution_count": 4,
   "metadata": {},
   "outputs": [
    {
     "name": "stdout",
     "output_type": "stream",
     "text": [
      "Missing values in train dataset:\n"
     ]
    },
    {
     "data": {
      "text/html": [
       "<div>\n",
       "<style scoped>\n",
       "    .dataframe tbody tr th:only-of-type {\n",
       "        vertical-align: middle;\n",
       "    }\n",
       "\n",
       "    .dataframe tbody tr th {\n",
       "        vertical-align: top;\n",
       "    }\n",
       "\n",
       "    .dataframe thead th {\n",
       "        text-align: right;\n",
       "    }\n",
       "</style>\n",
       "<table border=\"1\" class=\"dataframe\">\n",
       "  <thead>\n",
       "    <tr style=\"text-align: right;\">\n",
       "      <th></th>\n",
       "      <th>Column</th>\n",
       "      <th>Missing Values</th>\n",
       "    </tr>\n",
       "  </thead>\n",
       "  <tbody>\n",
       "    <tr>\n",
       "      <th>0</th>\n",
       "      <td>Pclass</td>\n",
       "      <td>0</td>\n",
       "    </tr>\n",
       "    <tr>\n",
       "      <th>1</th>\n",
       "      <td>Sex</td>\n",
       "      <td>0</td>\n",
       "    </tr>\n",
       "    <tr>\n",
       "      <th>2</th>\n",
       "      <td>Age</td>\n",
       "      <td>0</td>\n",
       "    </tr>\n",
       "    <tr>\n",
       "      <th>3</th>\n",
       "      <td>SibSp</td>\n",
       "      <td>0</td>\n",
       "    </tr>\n",
       "    <tr>\n",
       "      <th>4</th>\n",
       "      <td>Parch</td>\n",
       "      <td>0</td>\n",
       "    </tr>\n",
       "    <tr>\n",
       "      <th>5</th>\n",
       "      <td>Fare</td>\n",
       "      <td>0</td>\n",
       "    </tr>\n",
       "    <tr>\n",
       "      <th>6</th>\n",
       "      <td>Embarked</td>\n",
       "      <td>0</td>\n",
       "    </tr>\n",
       "    <tr>\n",
       "      <th>7</th>\n",
       "      <td>Survived</td>\n",
       "      <td>0</td>\n",
       "    </tr>\n",
       "  </tbody>\n",
       "</table>\n",
       "</div>"
      ],
      "text/plain": [
       "     Column  Missing Values\n",
       "0    Pclass               0\n",
       "1       Sex               0\n",
       "2       Age               0\n",
       "3     SibSp               0\n",
       "4     Parch               0\n",
       "5      Fare               0\n",
       "6  Embarked               0\n",
       "7  Survived               0"
      ]
     },
     "metadata": {},
     "output_type": "display_data"
    }
   ],
   "source": [
    "\n",
    "# טען את קובץ האימון\n",
    "train_df = pd.read_csv('titanic_train.csv')\n",
    "# יצירת DataFrame שמציג את מספר הערכים החסרים בכל עמודה\n",
    "missing_values = train_df.isnull().sum().reset_index()  # מחשב את הערכים החסרים ומציג בצורה של טבלה\n",
    "missing_values.columns = ['Column', 'Missing Values']  # הגדרת כותרות לטבלה\n",
    "# הצגת הטבלה בצורה יפה\n",
    "print(\"Missing values in train dataset:\")\n",
    "display(missing_values)\n"
   ]
  },
  {
   "cell_type": "markdown",
   "metadata": {},
   "source": [
    "<div style=\"background-color: none; font-size: 30px; color: black; padding: 0; margin: 0; text-align: left;\">\n",
    "    <p>Age distribution</p></div>This graph shows the distribution of passengers' ages in the training dataset. Each bar represents the number of people within a certain age range. The smooth line on the graph (the KDE curve) helps us see the overall trend of the age distribution. It gives a clear picture of which age groups had more passengers and how the ages are spread out."
   ]
  },
  {
   "cell_type": "code",
   "execution_count": 5,
   "metadata": {},
   "outputs": [
    {
     "data": {
      "image/png": "[encoded data removed]",
      "text/plain": [
       "<Figure size 1000x600 with 1 Axes>"
      ]
     },
     "metadata": {},
     "output_type": "display_data"
    }
   ],
   "source": [
    "\n",
    "import warnings\n",
    "warnings.filterwarnings(\"ignore\", category=FutureWarning)\n",
    "#------------------------------------------------------------------------------\n",
    "# יצירת גרף שמציג את ההתפלגות של עמודת גיל בקובץ האימון\n",
    "plt.figure(figsize=(10, 6)) # הגדרת גודל התרשים\n",
    "sns.histplot(train_df['Age'].dropna(), kde=True, bins=30) # יצירת גרף עמודות להתפלגות גיל עם עקומת צפיפות ו-30 עמודות\n",
    "plt.title('Age Distribution in Train Dataset')  # הוספת כותרת לתרשים\n",
    "plt.xlabel('Age') # הוספת תווית לציר האופקי\n",
    "plt.ylabel('Frequency') # הוספת תווית לציר האנכי\n",
    "plt.show() # הצגת התרשים\n",
    "#------------------------------------------------------------------------------\n"
   ]
  },
  {
   "cell_type": "markdown",
   "metadata": {},
   "source": [
    "\n",
    "<div style=\"background-color: none; font-size: 30px; color: black; padding: 0; margin: 0; text-align: left;\">\n",
    "    <p>Pie chart</p></div>\n",
    "    This code creates a pie chart that shows the distribution of passenger classes in the training dataset. Each slice of the pie represents a passenger class (1st, 2nd, or 3rd class), and the size of each slice is proportional to the percentage of passengers in that class. The chart uses customized colors and includes percentage labels for each slice. There's also a title at the top, and the y-axis label is removed for a cleaner look. The chart helps visually compare the proportion of passengers in each class."
   ]
  },
  {
   "cell_type": "code",
   "execution_count": 6,
   "metadata": {},
   "outputs": [
    {
     "data": {
      "image/png": "[encoded data removed]",
      "text/plain": [
       "<Figure size 700x700 with 1 Axes>"
      ]
     },
     "metadata": {},
     "output_type": "display_data"
    }
   ],
   "source": [
    "#------------------------------------------------------------------------------\n",
    "# יצירת תרשים עוגה המציג את חלוקת מחלקות הנוסעים בקובץ האימון\n",
    "plt.figure(figsize=(7, 7)) # הגדרת גודל התרשים\n",
    "train_df['Pclass'].value_counts().plot.pie(autopct='%1.1f%%', startangle=90, colors=['skyblue', 'lightgreen', 'lightcoral']) # יצירת תרשים עוגה עם חלוקה לאחוזים וצבעים מותאמים\n",
    "plt.title('Distribution of Passenger Classes in Train Dataset') # הוספת כותרת לתרשים\n",
    "plt.ylabel('')  #Y הסרת תווית ציר \n",
    "plt.show() # הצגת התרשים\n",
    "#------------------------------------------------------------------------------"
   ]
  },
  {
   "cell_type": "markdown",
   "metadata": {},
   "source": [
    "\n",
    "<div style=\"background-color: none; font-size: 30px; color: black; padding: 0; margin: 0; text-align: left;\">\n",
    "    <p>correlation matrix</p>\n",
    "</div>This code creates a correlation matrix heatmap, showing how different variables in the dataset are related. The colors represent the strength of the relationships: blue means positive correlation, red means negative. The numbers inside each cell show the exact correlation values. It helps quickly see which variables are connected."
   ]
  },
  {
   "cell_type": "code",
   "execution_count": 7,
   "metadata": {},
   "outputs": [
    {
     "data": {
      "image/png": "[encoded data removed]",
      "text/plain": [
       "<Figure size 1000x800 with 2 Axes>"
      ]
     },
     "metadata": {},
     "output_type": "display_data"
    }
   ],
   "source": [
    "#------------------------------------------------------------------------------\n",
    "# יצירת מטריצת קורלציה להצגת היחסים בין המשתנים השונים בקובץ האימון\n",
    "plt.figure(figsize=(10, 8))  # הגדרת גודל התרשים\n",
    "correlation_matrix = train_df.corr()  # חישוב הקורלציה בין כל המשתנים\n",
    "sns.heatmap(correlation_matrix, annot=True, cmap='coolwarm', fmt='.2f')  # יצירת מטריצת קורלציה כתרשים חום\n",
    "plt.title('Correlation Matrix of Train Dataset')  # הוספת כותרת לתרשים\n",
    "plt.show()  # הצגת התרשים\n",
    "#------------------------------------------------------------------------------\n",
    " "
   ]
  },
  {
   "cell_type": "markdown",
   "metadata": {},
   "source": [
    "\n",
    "<div style=\"background-color: none; font-size: 30px; color: black; padding: 0; margin: 0; text-align: left;\">\n",
    "    <p>Box plot</p>\n",
    "</div>This code creates a box plot that compares ticket prices across passenger classes. The plot shows how fares are distributed within each class, highlighting the range of prices, medians, and any outliers. It's a quick way to see the differences in ticket prices between the 1st, 2nd, and 3rd classes"
   ]
  },
  {
   "cell_type": "code",
   "execution_count": 8,
   "metadata": {},
   "outputs": [
    {
     "data": {
      "image/png": "[encoded data removed]",
      "text/plain": [
       "<Figure size 1000x600 with 1 Axes>"
      ]
     },
     "metadata": {},
     "output_type": "display_data"
    }
   ],
   "source": [
    "#------------------------------------------------------------------------------\n",
    "# יצירת תרשים קופסה להשוואת מחיר הכרטיס לפי מחלקות הנוסעים\n",
    "plt.figure(figsize=(10, 6))  # קביעת גודל הגרף (הרוחב והגובה)\n",
    "sns.boxplot(x='Pclass', y='Fare', data=train_df)  # יצירת תרשים קופסה להצגת ההתפלגות של מחירי הכרטיס לפי מחלקות הנוסעים\n",
    "plt.title('Fare Distribution by Passenger Class')  # הוספת כותרת לגרף\n",
    "plt.xlabel('Passenger Class')  # הוספת תווית לציר האופקי שמציין את מחלקות הנוסעים\n",
    "plt.ylabel('Fare')  # הוספת תווית לציר האנכי שמציין את מחירי הכרטיסים\n",
    "plt.show()  # הצגת התרשים\n",
    "#------------------------------------------------------------------------------\n"
   ]
  },
  {
   "cell_type": "markdown",
   "metadata": {},
   "source": [
    "<div style=\"background-color: none; font-size: 30px; color: black; padding: 0; margin: 0; text-align: left;\">\n",
    "    <p>Explanation</p>\n",
    "</div>\n",
    "In this project, I am building machine learning models to predict whether a passenger survived or not based on features like age, gender, and class from the Titanic dataset. I use models like K-Nearest Neighbors (KNN) and Decision Trees to classify passengers as either survivors or non-survivors and evaluate the model performance using F1-Score."
   ]
  },
  {
   "cell_type": "markdown",
   "metadata": {},
   "source": [
    "<div style=\"background-color: none; font-size: 30px; color: black; padding: 0; margin: 0; text-align: left;\">\n",
    "    <p>Preparing the data</p>\n",
    "</div>\n",
    "In this step, we are preparing the data before training the model. First, we separate the features (X) from the target column (y) in both the train and test sets. The target column is used to predict the outcome ('Survived' in this case). Next, we handle missing values in the 'Age' column by filling the missing values with the mean of the ages. This step is crucial to ensure there are no missing values, as machine learning models cannot handle missing data directly. The data preparation ensures clean and complete data for the model to train effectively."
   ]
  },
  {
   "cell_type": "code",
   "execution_count": 9,
   "metadata": {},
   "outputs": [],
   "source": [
    "scorer = make_scorer(f1_score, average='macro')  # F1 Score הגדרת פונקציית הערכה על בסיס מאקרו\n",
    "test_df = pd.read_csv('titanic_test.csv')  # טעינת קובץ הבדיקה\n",
    "\n",
    "#ועמודת המטרה Train Set הפרדה בין תכונות \n",
    "X_train = train_df.drop('Survived', axis=1)  #'Survived' מסירים מטריין סט את עמודת\n",
    "y_train = train_df['Survived']  #(Target) בתור עמודת המטרה 'Survived' שומרים את עמודת \n",
    "\n",
    "#(Test Set) בקובץ הבדיקה 'Survived' בדיקה אם קיימת עמודת \n",
    "if 'Survived' in test_df.columns:\n",
    "    X_test = test_df.drop('Survived', axis=1)#'Survived' מסירים מטסט סט את עמודת\n",
    "    y_test = test_df['Survived'] #(Target) בתור עמודת המטרה 'Survived' שומרים את עמודת \n",
    "else:\n",
    "    X_test = test_df  #'Survived' אם אין עמודת \n",
    "\n",
    "# טיפול בערכים חסרים\n",
    "X_train['Age'].fillna(X_train['Age'].mean(), inplace=True)#ממלאים ערכים חסרים בטריין סט לפי ממוצע הגילאים\n",
    "X_test['Age'].fillna(X_test['Age'].mean(), inplace=True)#ממלאים ערכים חסרים בטסט סט לפי ממוצע הגילאים    "
   ]
  },
  {
   "cell_type": "markdown",
   "metadata": {},
   "source": [
    "<div style=\"background-color: none; font-size: 12px; color: black; padding: 0; margin: 0; text-align: left;\">\n",
    "    <p><span style=\"font-weight: bold; font-size: 20px;\">Decision Tree:</p>\n",
    "    <p><span style=\"font-weight: bold;\">Hyperparameters:</span></p>\n",
    "    <p>* max_depth: Controls how deep the decision tree can grow to prevent overfitting.</p>\n",
    "    <p>* min_samples_split: The minimum number of samples required to split a node, preventing too many splits on small datasets.</p>\n",
    "    <p><span style=\"font-weight: bold;\">Feature Engineering:</span></p>\n",
    "    <p>* One-Hot Encoding: Converts categorical variables into binary numerical values to be used in the model.</p>\n",
    "    <p>* Feature Selection: Selects the most statistically relevant features to improve model performance by reducing irrelevant data.</p>\n",
    "</div>\n"
   ]
  },
  {
   "cell_type": "code",
   "execution_count": 10,
   "metadata": {},
   "outputs": [
    {
     "name": "stdout",
     "output_type": "stream",
     "text": [
      "Best Parameters (עץ החלטות): {'max_depth': 10, 'min_samples_split': 5}\n",
      "Best Cross-Validation F1 Score (עץ החלטות): 0.7801981505606888\n"
     ]
    }
   ],
   "source": [
    "#------------------------------------------------------------------------------\n",
    "#One-Hot Encoding:\n",
    "#המרה של עמודות מסוג קטגוריות לערכים מספריים\n",
    "X_train_dt = pd.get_dummies(X_train, columns=['Sex', 'Embarked'], drop_first=True) # המרת עמודות מגדר ותחנה לערכים בינאריים\n",
    "X_test_dt = pd.get_dummies(X_test, columns=['Sex', 'Embarked'], drop_first=True)  # המרת עמודות בטסט סט באותו אופן\n",
    "#------------------------------------------------------------------------------\n",
    "\n",
    "\n",
    "#------------------------------------------------------------------------------\n",
    "#Feature Selection (SelectKBest): \n",
    "# בחירת התכונות הטובות ביותר בעזרת בחירת תכונות סטטיסטיות\n",
    "selector_dt = SelectKBest(score_func=f_classif, k=5)  # בוחרים את חמש התכונות עם המשמעות הסטטיסטית הגבוהה ביותר\n",
    "X_train_dt_selected = selector_dt.fit_transform(X_train_dt, y_train)  # התאמת הפונקציה על הטריין סט\n",
    "X_test_dt_selected = selector_dt.transform(X_test_dt)  # החלת הפונקציה על הטסט סט\n",
    "#------------------------------------------------------------------------------\n",
    "\n",
    "\n",
    "# יצירת מודל עץ החלטות ללא הפחתת מימדים\n",
    "model_dt = DecisionTreeClassifier()  # יצירת מודל עץ החלטות\n",
    "\n",
    "# הגדרת רשת פרמטרים עבור עץ ההחלטות\n",
    "param_grid_dt = {\n",
    "    'max_depth': [None, 10, 20],  # עומק מקסימלי של העץ\n",
    "    'min_samples_split': [2, 5]   # מספר הדוגמאות המינימלי לפיצול\n",
    "}\n",
    "\n",
    "# ביצוע חיפוש רשת על המודל עם הפרמטרים המוגדרים\n",
    "grid_search_dt = GridSearchCV(estimator=model_dt, param_grid=param_grid_dt, scoring=scorer, cv=5)  # חיפוש הפרמטרים הטובים ביותר\n",
    "grid_search_dt.fit(X_train_dt_selected, y_train)  # אימון המודל על הטריין סט\n",
    "\n",
    "# הצגת הפרמטרים והתוצאה הטובה ביותר\n",
    "print(f\"Best Parameters (עץ החלטות): {grid_search_dt.best_params_}\")\n",
    "print(f\"Best Cross-Validation F1 Score (עץ החלטות): {grid_search_dt.best_score_}\")\n"
   ]
  },
  {
   "cell_type": "markdown",
   "metadata": {},
   "source": [
    "<div style=\"background-color: none; font-size: 12px; color: black; padding: 0; margin: 0; text-align: left;\">\n",
    "    <p><span style=\"font-weight: bold; font-size: 20px;\">KNN:</p>\n",
    "    <p><span style=\"font-weight: bold;\">Hyperparameters:</span></p>\n",
    "    <p>* n_neighbors: Defines the number of closest data points used for classification.</p>\n",
    "    <p>* weights: Determines how to weight the neighbors' votes, either equally ('uniform') or based on distance ('distance').</p>\n",
    "    <p><span style=\"font-weight: bold;\">Feature Engineering:</span></p>\n",
    "    <p>* One-Hot Encoding: Converts categorical text columns ('Sex', 'Embarked') into binary numerical values for the model to process.</p>\n",
    "    <p>* Feature Scaling: Normalizes the data to ensure all features are on a similar scale for KNN to work effectively.</p>\n",
    "    <p>* Dimensionality Reduction (PCA): Reduces the number of features to simplify the dataset while retaining as much information as possible.</p>\n",
    "</div>\n"
   ]
  },
  {
   "cell_type": "code",
   "execution_count": 11,
   "metadata": {},
   "outputs": [
    {
     "name": "stdout",
     "output_type": "stream",
     "text": [
      "Best Parameters (KNN): {'n_neighbors': 3, 'weights': 'uniform'}\n",
      "Best Cross-Validation F1 Score (KNN): 0.7736985432795895\n"
     ]
    }
   ],
   "source": [
    "#------------------------------------------------------------------------------\n",
    "#One-Hot Encoding:\n",
    "# המרת עמודות טקסטואליות לערכים מספריים בעזרת שיטת קידוד קטגוריות\n",
    "X_train_hot_knn = pd.get_dummies(X_train, columns=['Sex', 'Embarked'], drop_first=True)\n",
    "X_test_hot_knn = pd.get_dummies(X_test, columns=['Sex', 'Embarked'], drop_first=True)\n",
    "#------------------------------------------------------------------------------\n",
    "\n",
    "#------------------------------------------------------------------------------\n",
    "#Feature Scaling:\n",
    "# נרמול הנתונים כדי להבטיח שכל תכונה תהיה בסקלה דומה\n",
    "scaler_knn = StandardScaler()\n",
    "X_train_knn_scaled = scaler_knn.fit_transform(X_train_hot_knn)\n",
    "X_test_knn_scaled = scaler_knn.transform(X_test_hot_knn)\n",
    "#------------------------------------------------------------------------------\n",
    "\n",
    "\n",
    "#------------------------------------------------------------------------------\n",
    "#Dimensionality Reduction (PCA):\n",
    "# הקטנת מספר הממדים במטרה לפשט את הנתונים\n",
    "pca_knn = PCA(n_components=3)\n",
    "X_train_knn_pca = pca_knn.fit_transform(X_train_knn_scaled)\n",
    "X_test_knn_pca = pca_knn.transform(X_test_knn_scaled)\n",
    "#------------------------------------------------------------------------------\n",
    "\n",
    "\n",
    "# בניית המודל על בסיס קירובים של השכנים הקרובים ביותר\n",
    "model_knn = KNeighborsClassifier()\n",
    "\n",
    "# הגדרת טווחים עבור פרמטרים על מנת למצוא את השילוב הטוב ביותר\n",
    "param_grid_knn = {\n",
    "    'n_neighbors': [3, 5, 7],  # מספר השכנים הקרובים \n",
    "    'weights': ['uniform', 'distance']  # שיטת המשקלות - אחיד או לפי מרחק\n",
    "}\n",
    "\n",
    "# חיפוש הפרמטרים הטובים ביותר בעזרת חיפוש מבוסס רשת\n",
    "grid_search_knn = GridSearchCV(estimator=model_knn, param_grid=param_grid_knn, scoring=scorer, cv=5)\n",
    "grid_search_knn.fit(X_train_knn_pca, y_train)\n",
    "\n",
    "# הצגת הפרמטרים הטובים ביותר ותוצאת המודל הטובה ביותר\n",
    "print(f\"Best Parameters (KNN): {grid_search_knn.best_params_}\")\n",
    "print(f\"Best Cross-Validation F1 Score (KNN): {grid_search_knn.best_score_}\")\n",
    "\n"
   ]
  },
  {
   "cell_type": "markdown",
   "metadata": {},
   "source": [
    "<div style=\"background-color: none; font-size: 30px; color: black; padding: 0; margin: 0; text-align: left;\">\n",
    "    <p>Retraining the Decision Tree Model with Optimized Feature Engineering and Hyperparameters</p>\n",
    "</div>\n",
    "In this step, we are implementing the best-performing combination of feature engineering and hyperparameters for the Decision Tree model. First, we convert categorical columns like 'Sex' and 'Embarked' into numerical values using one-hot encoding, which allows the model to process these categorical features effectively. Then, we select the five most relevant features using the SelectKBest method to enhance the model's performance by focusing on the most important data points. After that, we normalize the selected features to ensure that all values are on a similar scale, although normalization isn't always necessary for decision trees. Finally, we train the Decision Tree model with the best hyperparameters obtained from the grid search and print a confirmation that the model has been successfully retrained. This ensures the model is optimized to deliver the best results based on our earlier experiments."
   ]
  },
  {
   "cell_type": "code",
   "execution_count": 12,
   "metadata": {},
   "outputs": [
    {
     "name": "stdout",
     "output_type": "stream",
     "text": [
      "The Decision Tree model has been successfully retrained with the best parameters!\n"
     ]
    }
   ],
   "source": [
    "\n",
    "# המרת עמודות קטגוריאליות לערכים מספריים בעזרת שיטת קידוד קטגוריות\n",
    "X_train_dt = pd.get_dummies(X_train, columns=['Sex', 'Embarked'], drop_first=True)\n",
    "\n",
    "# בחירת התכונות הרלוונטיות ביותר מתוך התכונות בעזרת בחירה אוטומטית\n",
    "selector_dt = SelectKBest(score_func=f_classif, k=5)  # בוחר את 5 התכונות הרלוונטיות ביותר\n",
    "X_train_dt_selected = selector_dt.fit_transform(X_train_dt, y_train)\n",
    "\n",
    "# נרמול הנתונים כדי להבטיח שכל התכונות יהיו באותה סקלה (נורמליזציה)\n",
    "scaler = StandardScaler()\n",
    "X_train_dt_scaled = scaler.fit_transform(X_train_dt_selected)\n",
    "\n",
    "# שימוש במודל עץ החלטות עם הפרמטרים הטובים ביותר שנמצאו על פי החיפוש ברשת\n",
    "best_model_dt = DecisionTreeClassifier(**grid_search_dt.best_params_)\n",
    "\n",
    "# אימון המודל על כל קבוצת האימון עם התכונות המנורמלות\n",
    "best_model_dt.fit(X_train_dt_scaled, y_train)\n",
    "\n",
    "# הדפסת הודעה המציינת שהמודל אומן בהצלחה עם הפרמטרים הטובים ביותר\n",
    "print(\"The Decision Tree model has been successfully retrained with the best parameters!\")\n"
   ]
  },
  {
   "cell_type": "markdown",
   "metadata": {},
   "source": [
    "<div style=\"background-color: none; font-size: 30px; color: black; padding: 0; margin: 0; text-align: left;\">\n",
    "    <p>Prediction and Model Evaluation - Applying the Model on the Test Set and Assessing its Performance</p>\n",
    "</div>\n",
    "In this step, we prepare the test data by handling missing values in 'Age' and converting categorical columns into numerical values. We apply feature selection and normalization, just like in the training set. The trained Decision Tree model is then used to predict the test set outcomes. We display the first five predictions and evaluate the model's performance with a classification report, including metrics like precision, recall, and F1 score (Macro), to measure the model's effectiveness on unseen data."
   ]
  },
  {
   "cell_type": "code",
   "execution_count": 13,
   "metadata": {},
   "outputs": [
    {
     "name": "stdout",
     "output_type": "stream",
     "text": [
      "First 5 Predictions on Test Set:\n",
      "[0 0 0 1 1]\n",
      "Classification Report on Test Set:\n",
      "              precision    recall  f1-score   support\n",
      "\n",
      "           0       0.85      0.91      0.88       118\n",
      "           1       0.79      0.69      0.74        61\n",
      "\n",
      "    accuracy                           0.83       179\n",
      "   macro avg       0.82      0.80      0.81       179\n",
      "weighted avg       0.83      0.83      0.83       179\n",
      "\n",
      "F1 Score (Macro) on Test Set: 0.8069456427955134\n"
     ]
    }
   ],
   "source": [
    "\n",
    "# טיפול בערכים חסרים בעמודת גיל בטסט סט\n",
    "X_test['Age'].fillna(X_test['Age'].mean(), inplace=True)\n",
    "\n",
    "# המרת עמודות קטגוריאליות לערכים מספריים בטסט סט (כמו שעשינו בטריין סט)\n",
    "X_test_dt = pd.get_dummies(X_test, columns=['Sex', 'Embarked'], drop_first=True)\n",
    "\n",
    "# בחירת התכונות הרלוונטיות ביותר לפי השיטה שבחרנו קודם\n",
    "X_test_dt_selected = selector_dt.transform(X_test_dt)\n",
    "\n",
    "# נרמול הטסט סט (אם ביצענו נרמול גם בטריין סט, נבצע גם כאן)\n",
    "X_test_dt_scaled = scaler.transform(X_test_dt_selected)\n",
    "\n",
    "# חיזוי על כל הדוגמאות בטסט סט באמצעות המודל המאומן\n",
    "y_pred_dt = best_model_dt.predict(X_test_dt_scaled)\n",
    "\n",
    "# הצגת 5 החיזויים הראשונים\n",
    "print(\"First 5 Predictions on Test Set:\")\n",
    "print(y_pred_dt[:5])\n",
    "\n",
    "# בדיקת איכות המודל על הטסט סט\n",
    "\n",
    "# הצגת דוח ביצועים מלא על הטסט סט\n",
    "print(\"Classification Report on Test Set:\")\n",
    "print(classification_report(y_test, y_pred_dt))\n",
    "\n",
    "# F1 Score \n",
    "test_f1_dt = f1_score(y_test, y_pred_dt, average='macro')\n",
    "print(f\"F1 Score (Macro) on Test Set: {test_f1_dt}\")\n"
   ]
  }
 ],
 "metadata": {
  "kernelspec": {
   "display_name": "base",
   "language": "python",
   "name": "python3"
  },
  "language_info": {
   "codemirror_mode": {
    "name": "ipython",
    "version": 3
   },
   "file_extension": ".py",
   "mimetype": "text/x-python",
   "name": "python",
   "nbconvert_exporter": "python",
   "pygments_lexer": "ipython3",
   "version": "3.11.7"
  }
 },
 "nbformat": 4,
 "nbformat_minor": 2
}
